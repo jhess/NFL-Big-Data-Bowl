{
 "cells": [
  {
   "cell_type": "code",
   "execution_count": null,
   "metadata": {},
   "outputs": [],
   "source": [
    "from sklearn.decomposition import PCA\n",
    "from sklearn import preprocessing\n",
    "from sklearn.ensemble import RandomForestClassifier\n",
    "\n",
    "from sklearn.model_selection import train_test_split, cross_val_score\n",
    "from sklearn.pipeline import make_pipeline\n",
    "\n",
    "from preprocess import get_preprocessed_data\n",
    "\n",
    "import numpy as np\n",
    "import pandas as pd"
   ]
  },
  {
   "cell_type": "code",
   "execution_count": null,
   "metadata": {},
   "outputs": [],
   "source": [
    "df = get_preprocessed_data()\n",
    "num_rows = df.shape[0]\n",
    "num_cols = df.shape[1]"
   ]
  },
  {
   "cell_type": "code",
   "execution_count": null,
   "metadata": {},
   "outputs": [],
   "source": [
    "# digitize yards\n",
    "bins = np.linspace(-99, 100, 10)\n",
    "indices = np.digitize(df['Yards'], bins)\n",
    "df = df.assign(Yards=indices)"
   ]
  },
  {
   "cell_type": "code",
   "execution_count": null,
   "metadata": {},
   "outputs": [],
   "source": [
    "# split training and testing data\n",
    "split = 0.80\n",
    "input_column_list = df.columns.tolist()\n",
    "input_column_list.remove('Yards')"
   ]
  },
  {
   "cell_type": "code",
   "execution_count": null,
   "metadata": {},
   "outputs": [],
   "source": [
    "tree_count_scores = [] # such that the ith element of the list represents the mean score using 2^i trees\n",
    "for i in range(0,8):\n",
    "    # Create pipeline using a RandomForestClassifier\n",
    "    rf = RandomForestClassifier(n_estimators=2**i, random_state=0, max_leaf_nodes=10000, min_impurity_decrease=0.001)\n",
    "    clf = make_pipeline(preprocessing.StandardScaler(), PCA(0.5), rf)\n",
    "\n",
    "    # Cross-validation\n",
    "    scores = cross_val_score(clf, df[input_column_list], df['Yards'], cv=7)\n",
    "    tree_count_scores.append(scores.mean())\n",
    "    print(\"Random Forest Accuracy (%d Trees): %0.2f (+/- %0.2f)\" % (2**i, scores.mean(), scores.std() * 2))"
   ]
  },
  {
   "cell_type": "code",
   "execution_count": null,
   "metadata": {},
   "outputs": [],
   "source": [
    "import matplotlib.pyplot as plt\n",
    "%matplotlib inline\n",
    "\n",
    "x_axis = [2**x for x in range(0,8)]\n",
    "plt.plot(x_axis, tree_count_scores)\n",
    "plt.ylabel('Accuracy')\n",
    "plt.xlabel('Num Trees')\n",
    "plt.show()"
   ]
  }
 ],
 "metadata": {
  "kernelspec": {
   "display_name": "Python 3",
   "language": "python",
   "name": "python3"
  },
  "language_info": {
   "codemirror_mode": {
    "name": "ipython",
    "version": 3
   },
   "file_extension": ".py",
   "mimetype": "text/x-python",
   "name": "python",
   "nbconvert_exporter": "python",
   "pygments_lexer": "ipython3",
   "version": "3.7.4"
  }
 },
 "nbformat": 4,
 "nbformat_minor": 2
}
